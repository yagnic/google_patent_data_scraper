{
 "cells": [
  {
   "cell_type": "code",
   "execution_count": 129,
   "id": "361be7f8",
   "metadata": {},
   "outputs": [],
   "source": [
    "from selenium import webdriver\n",
    "from selenium.webdriver.common.by import By\n",
    "from selenium.webdriver.chrome.options import Options\n",
    "\n",
    "options = Options()\n",
    "options.add_argument('--headless')  # Enable headless mode\n"
   ]
  },
  {
   "cell_type": "code",
   "execution_count": 130,
   "id": "01ddec56",
   "metadata": {},
   "outputs": [],
   "source": [
    "driver = webdriver.Chrome(options=options)"
   ]
  },
  {
   "cell_type": "code",
   "execution_count": 131,
   "id": "e80e0193",
   "metadata": {},
   "outputs": [],
   "source": [
    "url = \"https://patents.google.com/?q=(substance)&oq=substance\""
   ]
  },
  {
   "cell_type": "code",
   "execution_count": 132,
   "id": "d545723f",
   "metadata": {},
   "outputs": [],
   "source": [
    "driver.get(url)"
   ]
  },
  {
   "cell_type": "code",
   "execution_count": null,
   "id": "9979234c",
   "metadata": {},
   "outputs": [],
   "source": []
  },
  {
   "cell_type": "code",
   "execution_count": 133,
   "id": "a13b98a3",
   "metadata": {},
   "outputs": [
    {
     "data": {
      "text/plain": [
       "[<selenium.webdriver.remote.webelement.WebElement (session=\"8bc8d4df2fcd8f5f1020c47d8b7719a5\", element=\"E18D7330CCAB0F93E174026425F06CFE_element_45267\")>,\n",
       " <selenium.webdriver.remote.webelement.WebElement (session=\"8bc8d4df2fcd8f5f1020c47d8b7719a5\", element=\"E18D7330CCAB0F93E174026425F06CFE_element_45268\")>,\n",
       " <selenium.webdriver.remote.webelement.WebElement (session=\"8bc8d4df2fcd8f5f1020c47d8b7719a5\", element=\"E18D7330CCAB0F93E174026425F06CFE_element_45269\")>,\n",
       " <selenium.webdriver.remote.webelement.WebElement (session=\"8bc8d4df2fcd8f5f1020c47d8b7719a5\", element=\"E18D7330CCAB0F93E174026425F06CFE_element_45270\")>,\n",
       " <selenium.webdriver.remote.webelement.WebElement (session=\"8bc8d4df2fcd8f5f1020c47d8b7719a5\", element=\"E18D7330CCAB0F93E174026425F06CFE_element_45271\")>,\n",
       " <selenium.webdriver.remote.webelement.WebElement (session=\"8bc8d4df2fcd8f5f1020c47d8b7719a5\", element=\"E18D7330CCAB0F93E174026425F06CFE_element_45272\")>,\n",
       " <selenium.webdriver.remote.webelement.WebElement (session=\"8bc8d4df2fcd8f5f1020c47d8b7719a5\", element=\"E18D7330CCAB0F93E174026425F06CFE_element_45273\")>,\n",
       " <selenium.webdriver.remote.webelement.WebElement (session=\"8bc8d4df2fcd8f5f1020c47d8b7719a5\", element=\"E18D7330CCAB0F93E174026425F06CFE_element_45274\")>,\n",
       " <selenium.webdriver.remote.webelement.WebElement (session=\"8bc8d4df2fcd8f5f1020c47d8b7719a5\", element=\"E18D7330CCAB0F93E174026425F06CFE_element_45275\")>,\n",
       " <selenium.webdriver.remote.webelement.WebElement (session=\"8bc8d4df2fcd8f5f1020c47d8b7719a5\", element=\"E18D7330CCAB0F93E174026425F06CFE_element_45276\")>]"
      ]
     },
     "execution_count": 133,
     "metadata": {},
     "output_type": "execute_result"
    }
   ],
   "source": [
    "elements"
   ]
  },
  {
   "cell_type": "code",
   "execution_count": 134,
   "id": "8f642f00",
   "metadata": {},
   "outputs": [
    {
     "name": "stderr",
     "output_type": "stream",
     "text": [
      "  0%|                                                                                            | 0/9 [00:00<?, ?it/s]C:\\Users\\yagni\\AppData\\Local\\Temp/ipykernel_13096/3451858070.py:6: DeprecationWarning: find_elements_by_xpath is deprecated. Please use find_elements(by=By.XPATH, value=xpath) instead\n",
      "  elements = driver.find_elements_by_xpath('//span[@data-proto=\"OPEN_PATENT_PDF\"]')\n",
      "100%|████████████████████████████████████████████████████████████████████████████████████| 9/9 [00:33<00:00,  3.78s/it]\n"
     ]
    }
   ],
   "source": [
    "import time\n",
    "from tqdm import tqdm\n",
    "patents = []\n",
    "for i in tqdm(range(101,110)):\n",
    "    time.sleep(3)\n",
    "    elements = driver.find_elements_by_xpath('//span[@data-proto=\"OPEN_PATENT_PDF\"]')\n",
    "    for element in elements:\n",
    "        patent_id = element.text\n",
    "        if \"JP\" in patent_id:\n",
    "            continue\n",
    "        patents.append(patent_id)\n",
    "    driver.get(f\"https://patents.google.com/?q=(substance)&page={i}\")\n",
    "    \n",
    "            \n",
    "    "
   ]
  },
  {
   "cell_type": "code",
   "execution_count": 135,
   "id": "59f8485a",
   "metadata": {},
   "outputs": [
    {
     "data": {
      "text/plain": [
       "['US10207859B2',\n",
       " 'US20220001118A1',\n",
       " 'AU2019204518B2',\n",
       " 'US20200245897A1',\n",
       " 'US10124941B2',\n",
       " 'US11639894B2',\n",
       " 'US11072869B2',\n",
       " 'US10660969B2']"
      ]
     },
     "execution_count": 135,
     "metadata": {},
     "output_type": "execute_result"
    }
   ],
   "source": [
    "patents"
   ]
  },
  {
   "cell_type": "code",
   "execution_count": 136,
   "id": "ab03e905",
   "metadata": {},
   "outputs": [
    {
     "name": "stderr",
     "output_type": "stream",
     "text": [
      "C:\\Users\\yagni\\AppData\\Local\\Temp/ipykernel_13096/3615041174.py:8: DeprecationWarning: find_element_by_xpath is deprecated. Please use find_element(by=By.XPATH, value=xpath) instead\n",
      "  title = driver.find_element_by_xpath('//h1[@id=\"title\"]').text\n",
      "C:\\Users\\yagni\\AppData\\Local\\Temp/ipykernel_13096/3615041174.py:9: DeprecationWarning: find_element_by_xpath is deprecated. Please use find_element(by=By.XPATH, value=xpath) instead\n",
      "  abstract  = driver.find_element_by_xpath('//div[@class=\"abstract style-scope patent-text\"]').text\n"
     ]
    }
   ],
   "source": [
    "exceptions_new = []\n",
    "titles = []\n",
    "abstracts = []\n",
    "for patent in patents:\n",
    "    try:\n",
    "        driver.get(f\"https://patents.google.com/patent/{patent}/en?q=(substance)\")\n",
    "        time.sleep(2)\n",
    "        title = driver.find_element_by_xpath('//h1[@id=\"title\"]').text\n",
    "        abstract  = driver.find_element_by_xpath('//div[@class=\"abstract style-scope patent-text\"]').text\n",
    "        titles.append(title)\n",
    "        abstracts.append(abstract)\n",
    "    except Exception as e:\n",
    "        exceptions_new.append(e)"
   ]
  },
  {
   "cell_type": "code",
   "execution_count": 137,
   "id": "01917129",
   "metadata": {},
   "outputs": [],
   "source": [
    "import pandas as pd"
   ]
  },
  {
   "cell_type": "code",
   "execution_count": 138,
   "id": "8671f774",
   "metadata": {},
   "outputs": [],
   "source": [
    "train_data = pd.DataFrame({\"title\":titles,\"abstract\":abstracts})"
   ]
  },
  {
   "cell_type": "code",
   "execution_count": 139,
   "id": "256c1d74",
   "metadata": {},
   "outputs": [
    {
     "data": {
      "text/html": [
       "<div>\n",
       "<style scoped>\n",
       "    .dataframe tbody tr th:only-of-type {\n",
       "        vertical-align: middle;\n",
       "    }\n",
       "\n",
       "    .dataframe tbody tr th {\n",
       "        vertical-align: top;\n",
       "    }\n",
       "\n",
       "    .dataframe thead th {\n",
       "        text-align: right;\n",
       "    }\n",
       "</style>\n",
       "<table border=\"1\" class=\"dataframe\">\n",
       "  <thead>\n",
       "    <tr style=\"text-align: right;\">\n",
       "      <th></th>\n",
       "      <th>title</th>\n",
       "      <th>abstract</th>\n",
       "    </tr>\n",
       "  </thead>\n",
       "  <tbody>\n",
       "    <tr>\n",
       "      <th>0</th>\n",
       "      <td>Nutritional substance label system for adaptiv...</td>\n",
       "      <td>Disclosed herein are nutritional substance lab...</td>\n",
       "    </tr>\n",
       "    <tr>\n",
       "      <th>1</th>\n",
       "      <td>Device and method for aerosolized delivering o...</td>\n",
       "      <td>A device for delivering a predetermined volume...</td>\n",
       "    </tr>\n",
       "    <tr>\n",
       "      <th>2</th>\n",
       "      <td>Compositions comprising electrohydrodynamicall...</td>\n",
       "      <td>The present invention relates to electrospun f...</td>\n",
       "    </tr>\n",
       "    <tr>\n",
       "      <th>3</th>\n",
       "      <td>Electromechanical ingestible device for delive...</td>\n",
       "      <td>Ingestible devices capable of delivering a dis...</td>\n",
       "    </tr>\n",
       "    <tr>\n",
       "      <th>4</th>\n",
       "      <td>Re-sealable container for a controlled substan...</td>\n",
       "      <td>Provided is a re-sealable container for storin...</td>\n",
       "    </tr>\n",
       "    <tr>\n",
       "      <th>5</th>\n",
       "      <td>Non-invasive substance analysis</td>\n",
       "      <td>A method and apparatus for analyzing a substan...</td>\n",
       "    </tr>\n",
       "    <tr>\n",
       "      <th>6</th>\n",
       "      <td>Manganese/nickel composite oxide particles and...</td>\n",
       "      <td>The present invention provides a precursor of ...</td>\n",
       "    </tr>\n",
       "    <tr>\n",
       "      <th>7</th>\n",
       "      <td>Eight-arm polyethylene glycol derivative, prod...</td>\n",
       "      <td>Disclosed are an 8-arm polyethylene glycol (PE...</td>\n",
       "    </tr>\n",
       "  </tbody>\n",
       "</table>\n",
       "</div>"
      ],
      "text/plain": [
       "                                               title  \\\n",
       "0  Nutritional substance label system for adaptiv...   \n",
       "1  Device and method for aerosolized delivering o...   \n",
       "2  Compositions comprising electrohydrodynamicall...   \n",
       "3  Electromechanical ingestible device for delive...   \n",
       "4  Re-sealable container for a controlled substan...   \n",
       "5                    Non-invasive substance analysis   \n",
       "6  Manganese/nickel composite oxide particles and...   \n",
       "7  Eight-arm polyethylene glycol derivative, prod...   \n",
       "\n",
       "                                            abstract  \n",
       "0  Disclosed herein are nutritional substance lab...  \n",
       "1  A device for delivering a predetermined volume...  \n",
       "2  The present invention relates to electrospun f...  \n",
       "3  Ingestible devices capable of delivering a dis...  \n",
       "4  Provided is a re-sealable container for storin...  \n",
       "5  A method and apparatus for analyzing a substan...  \n",
       "6  The present invention provides a precursor of ...  \n",
       "7  Disclosed are an 8-arm polyethylene glycol (PE...  "
      ]
     },
     "execution_count": 139,
     "metadata": {},
     "output_type": "execute_result"
    }
   ],
   "source": [
    "train_data"
   ]
  },
  {
   "cell_type": "code",
   "execution_count": 140,
   "id": "a4d86002",
   "metadata": {},
   "outputs": [],
   "source": [
    "train_data.to_csv(\"patent_data_val.csv\",index=False)"
   ]
  },
  {
   "cell_type": "code",
   "execution_count": null,
   "id": "b1661080",
   "metadata": {},
   "outputs": [],
   "source": [
    "from selenium import webdriver\n",
    "from selenium.webdriver.common.by import By\n",
    "from selenium.webdriver.chrome.options import Options\n",
    "\n",
    "options = Options()\n",
    "options.add_argument('--headless')  # Enable headless mode\n",
    "\n",
    "\n",
    "driver = webdriver.Chrome(options=options)\n",
    "\n",
    "url = \"https://patents.google.com/?q=(substance)&oq=substance\"\n",
    "\n",
    "driver.get(url)\n",
    "\n",
    "\n",
    "\n",
    "elements\n",
    "\n",
    "import time\n",
    "from tqdm import tqdm\n",
    "patents = []\n",
    "for i in tqdm(range(101,110)):\n",
    "    time.sleep(3)\n",
    "    elements = driver.find_elements_by_xpath('//span[@data-proto=\"OPEN_PATENT_PDF\"]')\n",
    "    for element in elements:\n",
    "        patent_id = element.text\n",
    "        if \"JP\" in patent_id:\n",
    "            continue\n",
    "        patents.append(patent_id)\n",
    "    driver.get(f\"https://patents.google.com/?q=(substance)&page={i}\")\n",
    "    \n",
    "            \n",
    "    \n",
    "\n",
    "patents\n",
    "\n",
    "exceptions_new = []\n",
    "titles = []\n",
    "abstracts = []\n",
    "for patent in patents:\n",
    "    try:\n",
    "        driver.get(f\"https://patents.google.com/patent/{patent}/en?q=(substance)\")\n",
    "        time.sleep(2)\n",
    "        title = driver.find_element_by_xpath('//h1[@id=\"title\"]').text\n",
    "        abstract  = driver.find_element_by_xpath('//div[@class=\"abstract style-scope patent-text\"]').text\n",
    "        titles.append(title)\n",
    "        abstracts.append(abstract)\n",
    "    except Exception as e:\n",
    "        exceptions_new.append(e)\n",
    "\n",
    "import pandas as pd\n",
    "\n",
    "train_data = pd.DataFrame({\"title\":titles,\"abstract\":abstracts})\n",
    "\n",
    "train_data\n",
    "\n",
    "train_data.to_csv(\"patent_data_val.csv\",index=False)\n",
    "\n"
   ]
  },
  {
   "cell_type": "code",
   "execution_count": 141,
   "id": "79c46586",
   "metadata": {},
   "outputs": [],
   "source": [
    "import selenium"
   ]
  },
  {
   "cell_type": "code",
   "execution_count": 142,
   "id": "21ebbc4c",
   "metadata": {},
   "outputs": [
    {
     "data": {
      "text/plain": [
       "'4.1.3'"
      ]
     },
     "execution_count": 142,
     "metadata": {},
     "output_type": "execute_result"
    }
   ],
   "source": [
    "selenium.__version__"
   ]
  },
  {
   "cell_type": "code",
   "execution_count": null,
   "id": "ef1ef2f9",
   "metadata": {},
   "outputs": [],
   "source": []
  }
 ],
 "metadata": {
  "kernelspec": {
   "display_name": "Python 3 (ipykernel)",
   "language": "python",
   "name": "python3"
  },
  "language_info": {
   "codemirror_mode": {
    "name": "ipython",
    "version": 3
   },
   "file_extension": ".py",
   "mimetype": "text/x-python",
   "name": "python",
   "nbconvert_exporter": "python",
   "pygments_lexer": "ipython3",
   "version": "3.9.7"
  }
 },
 "nbformat": 4,
 "nbformat_minor": 5
}
